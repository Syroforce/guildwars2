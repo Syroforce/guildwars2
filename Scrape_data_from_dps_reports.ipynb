{
  "nbformat": 4,
  "nbformat_minor": 0,
  "metadata": {
    "colab": {
      "name": "Scrape data from dps.reports",
      "provenance": [],
      "collapsed_sections": []
    },
    "kernelspec": {
      "display_name": "Python 3",
      "name": "python3"
    }
  },
  "cells": [
    {
      "cell_type": "markdown",
      "metadata": {
        "id": "DBGslqFMNgin"
      },
      "source": [
        "### 0. Click \"Copy to Drive\" so that you can launch your own version\n",
        "\n",
        "### 1. Paste links to logs below\n",
        "**(do not delete the \"%%writefile visc_input.txt\")**\n",
        "\n",
        "### 2. Run all cells: Runtime > Run all  \n",
        "(can also do Ctrl+F9)"
      ]
    },
    {
      "cell_type": "code",
      "metadata": {
        "colab": {
          "base_uri": "https://localhost:8080/"
        },
        "id": "IORwXauDMPqh",
        "outputId": "0860c309-3487-4b3e-bd4d-e1d0aa9ac19d"
      },
      "source": [
        "%%writefile visc_input.txt\n",
        "W1\n",
        "https://dps.report/zNPp-20210426-193506_vg\n",
        "https://dps.report/CzSe-20210426-195851_gors\n",
        "https://dps.report/AMD2-20210426-200756_sab\n",
        "\n",
        "W2\n",
        "https://dps.report/kEti-20210426-215336_sloth\n",
        "https://dps.report/0A4f-20210426-221104_matt\n",
        "\n",
        "W3\n",
        "https://dps.report/yBss-20210426-213234_kc\n",
        "https://dps.report/IC7K-20210426-214416_xera\n",
        "\n",
        "W4\n",
        "https://dps.report/yLHL-20210426-201723_cairn\n",
        "https://dps.report/zOPd-20210426-202603_mo\n",
        "https://dps.report/ERFv-20210426-203318_sam"
      ],
      "execution_count": null,
      "outputs": [
        {
          "output_type": "stream",
          "text": [
            "Overwriting visc_input.txt\n"
          ],
          "name": "stdout"
        }
      ]
    },
    {
      "cell_type": "markdown",
      "metadata": {
        "id": "Pe5aIEIPOOp-"
      },
      "source": [
        "### 3. Wait until the script collects all the data\n",
        "(circle stops spinning)"
      ]
    },
    {
      "cell_type": "code",
      "metadata": {
        "colab": {
          "base_uri": "https://localhost:8080/"
        },
        "id": "37tUvUcPMFiT",
        "outputId": "36abbd3a-7b34-4224-dba0-ce26afc31f34"
      },
      "source": [
        "import csv\n",
        "import json\n",
        "import requests\n",
        "from datetime import datetime\n",
        "\n",
        "result = [['Date', 'Encounter', 'Profession', 'Alive', 'DPS', 'Breakbar Damage', 'Log']]\n",
        "\n",
        "account_name = 'Visceryn.5429'\n",
        "\n",
        "log_list = open('visc_input.txt').readlines()\n",
        "\n",
        "for log in log_list:\n",
        "    result_dict = []\n",
        "    r = requests.get('https://dps.report/getJson?permalink=' + log)\n",
        "    if r.status_code != 200:\n",
        "        print(\"Could not parse log with url: \" + str(log) + \" . Status code \" + str(r.status_code))\n",
        "    else:\n",
        "        c = r.content\n",
        "        j = json.loads(c)\n",
        "\n",
        "        alive = 100\n",
        "        dps = 0\n",
        "        breakbar_damage = 'None'\n",
        "        s_banner_uptime = 0\n",
        "        d_banner_uptime = 0\n",
        "\n",
        "        for p in j['players']:\n",
        "            if p['account'] == account_name and p['profession']:\n",
        "                # player name\n",
        "                player_name = p['name']\n",
        "\n",
        "                # class\n",
        "                player_class = p['profession']\n",
        "\n",
        "                # dps\n",
        "                dps = p['dpsAll'][0]['dps']\n",
        "\n",
        "                # get breakbar damage\n",
        "                if 'breakbarDamage1S' in p:\n",
        "                    breakbar_damage = p['breakbarDamage1S'][0]\n",
        "                    breakbar_damage = breakbar_damage[-1]\n",
        "\n",
        "        # find death\n",
        "        for m in j['mechanics']:\n",
        "            if m['name'] == 'Dead':\n",
        "                for d in m['mechanicsData']:\n",
        "                    if d['actor'] == player_name:\n",
        "                        time_of_death = int(d['time'])\n",
        "                        duration = datetime.strptime(j['duration'], \"%Mm %Ss %fms\")\n",
        "                        duration = int((duration.minute * 60 + duration.second) * 1000 + duration.microsecond / 1000)\n",
        "\n",
        "                        alive = round(time_of_death / duration * 100, 2)\n",
        "\n",
        "        date = j['timeStart']\n",
        "\n",
        "        result_dict.append(date[:-4])\n",
        "        result_dict.append(j['fightName'])\n",
        "        result_dict.append(player_class)\n",
        "        result_dict.append(alive if alive < 100 else 100)\n",
        "        result_dict.append(dps)\n",
        "        result_dict.append(breakbar_damage)\n",
        "        result_dict.append(log[:-1])\n",
        "\n",
        "        result.append(result_dict)\n",
        "\n",
        "for r in result:\n",
        "    print(r)\n",
        "\n",
        "with open('visc_output.csv', 'w', newline='') as output:\n",
        "    wr = csv.writer(output)\n",
        "    for r in result:\n",
        "        wr.writerow(r)\n"
      ],
      "execution_count": null,
      "outputs": [
        {
          "output_type": "stream",
          "text": [
            "Could not parse log with url: W1\n",
            " . Status code 403\n",
            "Could not parse log with url: \n",
            " . Status code 403\n",
            "Could not parse log with url: W2\n",
            " . Status code 403\n",
            "Could not parse log with url: \n",
            " . Status code 403\n",
            "Could not parse log with url: W3\n",
            " . Status code 403\n",
            "Could not parse log with url: \n",
            " . Status code 403\n",
            "Could not parse log with url: W4\n",
            " . Status code 403\n",
            "['Date', 'Encounter', 'Profession', 'Alive', 'DPS', 'Breakbar Damage', 'Log']\n",
            "['2021-04-26 13:31:36', 'Vale Guardian', 'Berserker', 100, 19559, 1200.0, 'https://dps.report/zNPp-20210426-193506_vg']\n",
            "['2021-04-26 13:55:57', 'Gorseval the Multifarious', 'Berserker', 100, 23773, 1596.0, 'https://dps.report/CzSe-20210426-195851_gors']\n",
            "['2021-04-26 14:03:31', 'Sabetha the Saboteur', 'Firebrand', 100, 28836, 0.0, 'https://dps.report/AMD2-20210426-200756_sab']\n",
            "['2021-04-26 15:49:55', 'Slothasor', 'Firebrand', 100, 20752, 950.0, 'https://dps.report/kEti-20210426-215336_sloth']\n",
            "['2021-04-26 16:07:46', 'Matthias Gabrel', 'Firebrand', 100, 21792, 500.0, 'https://dps.report/0A4f-20210426-221104_matt']\n",
            "['2021-04-26 15:26:33', 'Keep Construct CM', 'Dragonhunter', 100, 26434, 900.0, 'https://dps.report/yBss-20210426-213234_kc']\n",
            "['2021-04-26 15:39:13', 'Xera', 'Firebrand', 100, 21917, 150.0, 'https://dps.report/IC7K-20210426-214416_xera']\n",
            "['2021-04-26 14:14:36', 'Cairn CM', 'Firebrand', 100, 24025, 'None', 'https://dps.report/yLHL-20210426-201723_cairn']\n",
            "['2021-04-26 14:24:20', 'Mursaat Overseer', 'Guardian', 100, 30632, 'None', 'https://dps.report/zOPd-20210426-202603_mo']\n",
            "['2021-04-26 14:28:04', 'Samarog', 'Daredevil', 100, 16349, 5750.0, 'https://dps.report/ERFv-20210426-203318_sa']\n"
          ],
          "name": "stdout"
        }
      ]
    },
    {
      "cell_type": "markdown",
      "metadata": {
        "id": "uKy_0q6gNxd3"
      },
      "source": [
        "### 4. Copypasta into your spreadsheet  \n",
        "### 5. [Split the data across mutliple cells](https://support.google.com/docs/answer/6325535?hl=en)"
      ]
    },
    {
      "cell_type": "code",
      "metadata": {
        "colab": {
          "base_uri": "https://localhost:8080/"
        },
        "id": "pFm-mWO1MZOR",
        "outputId": "4bfe6c04-15dd-4d64-8a13-af4a6ae0e1ef"
      },
      "source": [
        "!cat visc_output.csv"
      ],
      "execution_count": null,
      "outputs": [
        {
          "output_type": "stream",
          "text": [
            "Date,Encounter,Profession,Alive,DPS,Breakbar Damage,Log\r\n",
            "2021-04-26 13:31:36,Vale Guardian,Berserker,100,19559,1200.0,https://dps.report/zNPp-20210426-193506_vg\r\n",
            "2021-04-26 13:55:57,Gorseval the Multifarious,Berserker,100,23773,1596.0,https://dps.report/CzSe-20210426-195851_gors\r\n",
            "2021-04-26 14:03:31,Sabetha the Saboteur,Firebrand,100,28836,0.0,https://dps.report/AMD2-20210426-200756_sab\r\n",
            "2021-04-26 15:49:55,Slothasor,Firebrand,100,20752,950.0,https://dps.report/kEti-20210426-215336_sloth\r\n",
            "2021-04-26 16:07:46,Matthias Gabrel,Firebrand,100,21792,500.0,https://dps.report/0A4f-20210426-221104_matt\r\n",
            "2021-04-26 15:26:33,Keep Construct CM,Dragonhunter,100,26434,900.0,https://dps.report/yBss-20210426-213234_kc\r\n",
            "2021-04-26 15:39:13,Xera,Firebrand,100,21917,150.0,https://dps.report/IC7K-20210426-214416_xera\r\n",
            "2021-04-26 14:14:36,Cairn CM,Firebrand,100,24025,None,https://dps.report/yLHL-20210426-201723_cairn\r\n",
            "2021-04-26 14:24:20,Mursaat Overseer,Guardian,100,30632,None,https://dps.report/zOPd-20210426-202603_mo\r\n",
            "2021-04-26 14:28:04,Samarog,Daredevil,100,16349,5750.0,https://dps.report/ERFv-20210426-203318_sa\r\n"
          ],
          "name": "stdout"
        }
      ]
    },
    {
      "cell_type": "code",
      "metadata": {
        "id": "q1bJncZkM2zi"
      },
      "source": [
        ""
      ],
      "execution_count": null,
      "outputs": []
    }
  ]
}